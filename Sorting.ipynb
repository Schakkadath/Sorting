{
 "cells": [
  {
   "cell_type": "markdown",
   "metadata": {},
   "source": [
    "#### 1. Selection sort"
   ]
  },
  {
   "cell_type": "code",
   "execution_count": 5,
   "metadata": {},
   "outputs": [],
   "source": [
    "def SelectionSort(A):\n",
    "    for i in range(len(A)):\n",
    "\n",
    "        min_idx = i\n",
    "        for j in range(i+1, len(A)):\n",
    "            if A[min_idx] > A[j]:\n",
    "                min_idx = j \n",
    "        A[i], A[min_idx] = A[min_idx], A[i]\n",
    "    return A"
   ]
  },
  {
   "cell_type": "code",
   "execution_count": 6,
   "metadata": {},
   "outputs": [
    {
     "name": "stdout",
     "output_type": "stream",
     "text": [
      "[1, 2, 4, 5, 22, 32, 67, 90, 121]\n"
     ]
    }
   ],
   "source": [
    "print(SelectionSort([1,4,2,67,90,32,121,5,22]))"
   ]
  },
  {
   "cell_type": "markdown",
   "metadata": {},
   "source": [
    "#### 2. Bubble Sort"
   ]
  },
  {
   "cell_type": "code",
   "execution_count": 7,
   "metadata": {},
   "outputs": [],
   "source": [
    "def BubbleSort(A):\n",
    "    n = len(A)\n",
    "    for i in range(n):\n",
    "        for j in range(0,n-i-1):\n",
    "            if A[j] > A[j+1]:\n",
    "                A[j], A[j+1] = A[j+1], A[j]\n",
    "    return A"
   ]
  },
  {
   "cell_type": "code",
   "execution_count": 8,
   "metadata": {},
   "outputs": [
    {
     "name": "stdout",
     "output_type": "stream",
     "text": [
      "[1, 2, 4, 5, 22, 32, 67, 90, 121]\n"
     ]
    }
   ],
   "source": [
    "print(BubbleSort([1,4,2,67,90,32,121,5,22]))"
   ]
  },
  {
   "cell_type": "code",
   "execution_count": 10,
   "metadata": {},
   "outputs": [],
   "source": [
    "# Bubble sort with flag\n",
    "\n",
    "def BubbleSortFlag(A):\n",
    "    \n",
    "    n = len(A)\n",
    "    \n",
    "    for i in range(n):\n",
    "        \n",
    "        swapped = False\n",
    "        for j in range(0, n-i-1):\n",
    "            if A[j]> A[j+1]:\n",
    "                A[j], A[j+1] = A[j+1], A[j]\n",
    "                swapped = True\n",
    "            \n",
    "        if swapped == False:\n",
    "            break\n",
    "    return A\n",
    "    \n",
    "    \n",
    "    "
   ]
  },
  {
   "cell_type": "code",
   "execution_count": 11,
   "metadata": {},
   "outputs": [
    {
     "name": "stdout",
     "output_type": "stream",
     "text": [
      "[1, 2, 4, 5, 22, 32, 67, 90, 121]\n"
     ]
    }
   ],
   "source": [
    "print(BubbleSortFlag([1,4,2,67,90,32,121,5,22]))"
   ]
  },
  {
   "cell_type": "markdown",
   "metadata": {},
   "source": [
    "#### 3. Insertion Sort"
   ]
  },
  {
   "cell_type": "code",
   "execution_count": 23,
   "metadata": {},
   "outputs": [],
   "source": [
    "def InsertionSort(a):\n",
    "    \n",
    "    n = len(a)\n",
    "    for i in range(1,n):\n",
    "        key = a[i]\n",
    "        j = i-1\n",
    "        while key < a[j] and j>=0:\n",
    "            a[j+1] = a[j]\n",
    "            j-=1\n",
    "        a[j+1] = key\n",
    "    \n",
    "    return a\n",
    "            "
   ]
  },
  {
   "cell_type": "code",
   "execution_count": 24,
   "metadata": {},
   "outputs": [
    {
     "name": "stdout",
     "output_type": "stream",
     "text": [
      "[1, 2, 4, 5, 22, 32, 67, 90, 121]\n"
     ]
    }
   ],
   "source": [
    "print(InsertionSort([1,4,2,67,90,32,121,5,22]))"
   ]
  },
  {
   "cell_type": "markdown",
   "metadata": {},
   "source": [
    "#### 4. Heap Sort"
   ]
  },
  {
   "cell_type": "code",
   "execution_count": 42,
   "metadata": {},
   "outputs": [],
   "source": [
    "def heapify(a,n,i):\n",
    "    largest = i\n",
    "    l = 2 * i + 1\n",
    "    r = 2 * i + 2\n",
    "    \n",
    "    if l<n and a[largest] < a[l]:\n",
    "        largest = l\n",
    "    \n",
    "    if r<n and a[largest] < a[r]:\n",
    "        largest = r\n",
    "    \n",
    "    if largest != i:\n",
    "        a[i], a[largest] = a[largest], a[i]\n",
    "        heapify(a, n, largest)\n",
    "    \n",
    "\n",
    "\n",
    "\n",
    "def heapSort(a):\n",
    "    n = len(a)\n",
    "    for i in range(n//2 - 1, -1, -1):\n",
    "        heapify(a, n, i)\n",
    "        \n",
    "    \n",
    "    for i in range(n-1, 0, -1):\n",
    "        a[i], a[0] = a[0], a[i]\n",
    "        heapify(a, i, 0)\n",
    "    \n",
    "    return a"
   ]
  },
  {
   "cell_type": "code",
   "execution_count": 43,
   "metadata": {},
   "outputs": [
    {
     "data": {
      "text/plain": [
       "[2, 8, 27, 35, 98, 100, 874]"
      ]
     },
     "execution_count": 43,
     "metadata": {},
     "output_type": "execute_result"
    }
   ],
   "source": [
    "heapSort([100, 27, 874, 35, 8,98,2])"
   ]
  },
  {
   "cell_type": "markdown",
   "metadata": {},
   "source": [
    "#### Merging"
   ]
  },
  {
   "cell_type": "code",
   "execution_count": 98,
   "metadata": {},
   "outputs": [],
   "source": [
    "def merge(a, b):\n",
    "    c= []\n",
    "    i=j=0\n",
    "    while i in range(len(a)) and j in range(len(b)):\n",
    "        if a[i] < b[j]:\n",
    "            c.append(a[i])\n",
    "            i+=1\n",
    "        else:\n",
    "            c.append(b[j])\n",
    "            j+=1\n",
    "    while i < len(a):\n",
    "        c.append(a[i])\n",
    "        i+=1\n",
    "\n",
    "    while j < len(b):\n",
    "        c.append(b[j])\n",
    "        j+=1\n",
    "        \n",
    "    return c\n",
    "            "
   ]
  },
  {
   "cell_type": "code",
   "execution_count": 99,
   "metadata": {},
   "outputs": [
    {
     "data": {
      "text/plain": [
       "[0, 1, 2, 2, 3, 4, 5, 7]"
      ]
     },
     "execution_count": 99,
     "metadata": {},
     "output_type": "execute_result"
    }
   ],
   "source": [
    "merge([1,2,3,7],[0,2,4,5])"
   ]
  },
  {
   "cell_type": "code",
   "execution_count": 117,
   "metadata": {},
   "outputs": [],
   "source": [
    "def MergeSort(Array):\n",
    "    \n",
    "    if len(Array) > 1:\n",
    "        \n",
    "        mid = len(Array)//2\n",
    "        \n",
    "        L = Array[:mid]\n",
    "        \n",
    "        R = Array[mid:]\n",
    "        \n",
    "        MergeSort(L)\n",
    "        \n",
    "        MergeSort(R)\n",
    "        \n",
    "        c= []\n",
    "        i=j=0\n",
    "        while i < (len(L)) and j <(len(R)):\n",
    "            if L[i] < R[j]:\n",
    "                c.append(L[i])\n",
    "                i+=1\n",
    "            else:\n",
    "                c.append(R[j])\n",
    "                j+=1\n",
    "        while i < len(L):\n",
    "            c.append(L[i])\n",
    "            i+=1\n",
    "\n",
    "        while j < len(R):\n",
    "            c.append(R[j])\n",
    "            j+=1\n",
    "\n",
    "        print(c)\n",
    "\n",
    "    \n",
    "        "
   ]
  },
  {
   "cell_type": "code",
   "execution_count": 118,
   "metadata": {},
   "outputs": [
    {
     "name": "stdout",
     "output_type": "stream",
     "text": [
      "[27, 874]\n",
      "[27, 100, 874]\n",
      "[8, 35]\n",
      "[2, 98]\n",
      "[35, 8, 98, 2]\n",
      "[35, 8, 98, 2, 100, 27, 874]\n"
     ]
    }
   ],
   "source": [
    "MergeSort([100, 27, 874, 35, 8,98,2])"
   ]
  },
  {
   "cell_type": "code",
   "execution_count": 5,
   "metadata": {},
   "outputs": [],
   "source": [
    "a = [100, 27, 874, 35, 8,98,2]"
   ]
  },
  {
   "cell_type": "code",
   "execution_count": 7,
   "metadata": {},
   "outputs": [],
   "source": [
    "a.append(10000)"
   ]
  },
  {
   "cell_type": "code",
   "execution_count": 8,
   "metadata": {},
   "outputs": [
    {
     "data": {
      "text/plain": [
       "[100, 27, 874, 35, 8, 98, 2, 10000]"
      ]
     },
     "execution_count": 8,
     "metadata": {},
     "output_type": "execute_result"
    }
   ],
   "source": [
    "a"
   ]
  },
  {
   "cell_type": "markdown",
   "metadata": {},
   "source": [
    "#### Quick Sort"
   ]
  },
  {
   "cell_type": "code",
   "execution_count": 55,
   "metadata": {},
   "outputs": [],
   "source": [
    "def quickSort(l, r, arr):\n",
    "\n",
    "    \n",
    "    def partition(l, r, arr):\n",
    "        \n",
    "#         l, r = 0, len(arr)-1\n",
    "        \n",
    "        pivot = arr[r]\n",
    "        ptr = l\n",
    "        \n",
    "        for i in range(l,r):\n",
    "            if arr[i] <= pivot:\n",
    "                arr[i], arr[ptr] = arr[ptr], arr[i]\n",
    "                ptr += 1\n",
    "        arr[ptr], arr[r] = arr[r], arr[ptr]\n",
    "        return ptr\n",
    "    \n",
    "    if len(arr) == 1:\n",
    "        return arr\n",
    "    \n",
    "#     l, r = 0, len(arr)-1\n",
    "    \n",
    "    if(l < r):\n",
    "        ptr = partition(l, r, arr)\n",
    "        quickSort(l, ptr-1, arr)\n",
    "        quickSort(ptr+1, r, arr)\n",
    "    return arr\n",
    "                \n",
    "\n",
    "        \n",
    "        "
   ]
  },
  {
   "cell_type": "code",
   "execution_count": 56,
   "metadata": {},
   "outputs": [],
   "source": [
    "a = [100, 27, 874, 35, 8,98,2]"
   ]
  },
  {
   "cell_type": "code",
   "execution_count": 57,
   "metadata": {},
   "outputs": [
    {
     "data": {
      "text/plain": [
       "[2, 8, 27, 35, 98, 100, 874]"
      ]
     },
     "execution_count": 57,
     "metadata": {},
     "output_type": "execute_result"
    }
   ],
   "source": [
    "quickSort(0, len(a)-1, a)"
   ]
  },
  {
   "cell_type": "code",
   "execution_count": null,
   "metadata": {},
   "outputs": [],
   "source": []
  }
 ],
 "metadata": {
  "kernelspec": {
   "display_name": "Python 3",
   "language": "python",
   "name": "python3"
  },
  "language_info": {
   "codemirror_mode": {
    "name": "ipython",
    "version": 3
   },
   "file_extension": ".py",
   "mimetype": "text/x-python",
   "name": "python",
   "nbconvert_exporter": "python",
   "pygments_lexer": "ipython3",
   "version": "3.7.3"
  }
 },
 "nbformat": 4,
 "nbformat_minor": 2
}
